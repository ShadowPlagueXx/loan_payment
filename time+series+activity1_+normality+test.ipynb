{
  "nbformat": 4,
  "nbformat_minor": 0,
  "metadata": {
    "kernelspec": {
      "display_name": "Python 3",
      "language": "python",
      "name": "python3"
    },
    "language_info": {
      "codemirror_mode": {
        "name": "ipython",
        "version": 3
      },
      "file_extension": ".py",
      "mimetype": "text/x-python",
      "name": "python",
      "nbconvert_exporter": "python",
      "pygments_lexer": "ipython3",
      "version": "3.7.3"
    },
    "colab": {
      "name": "time+series+activity1-+normality+test.ipynb",
      "provenance": [],
      "collapsed_sections": [],
      "toc_visible": true
    }
  },
  "cells": [
    {
      "cell_type": "markdown",
      "metadata": {
        "id": "tURDDekPHtsV"
      },
      "source": [
        "# Normality test\n",
        "In statistics, normality tests are used to determine if a data set is well-modeled by a normal distribution \n",
        "and to compute how likely it is for a random variable underlying the data set to be normally distributed.There are a number of techniques that you can check if your data sample is Gaussian or sufficiently Gaussian-like to use the standard techniques, or sufficiently non-Gaussian to instead use non-parametric statistical methods."
      ]
    },
    {
      "cell_type": "markdown",
      "metadata": {
        "id": "gXLutG2WHtsV"
      },
      "source": [
        "# Activity1\n",
        "There is a precipitation time series that you can apply normality test on that.\n",
        "1-histogram test\n",
        "2-Q-Q plot test\n",
        "3-shapiro wilktest\n",
        "4-D’Agostino’s K^2 Test\n",
        "5-Anderson-Darling Test"
      ]
    },
    {
      "cell_type": "code",
      "metadata": {
        "id": "TAl2PCPVHtsW",
        "outputId": "e70952f3-e57a-491c-8b50-c46540336cce"
      },
      "source": [
        "from matplotlib import pyplot as plt\n",
        "import pandas as pd\n",
        "data=pd.read_csv('data.csv')\n",
        "data"
      ],
      "execution_count": null,
      "outputs": [
        {
          "output_type": "execute_result",
          "data": {
            "text/html": [
              "<div>\n",
              "<style>\n",
              "    .dataframe thead tr:only-child th {\n",
              "        text-align: right;\n",
              "    }\n",
              "\n",
              "    .dataframe thead th {\n",
              "        text-align: left;\n",
              "    }\n",
              "\n",
              "    .dataframe tbody tr th {\n",
              "        vertical-align: top;\n",
              "    }\n",
              "</style>\n",
              "<table border=\"1\" class=\"dataframe\">\n",
              "  <thead>\n",
              "    <tr style=\"text-align: right;\">\n",
              "      <th></th>\n",
              "      <th>P</th>\n",
              "    </tr>\n",
              "  </thead>\n",
              "  <tbody>\n",
              "    <tr>\n",
              "      <th>0</th>\n",
              "      <td>29.0</td>\n",
              "    </tr>\n",
              "    <tr>\n",
              "      <th>1</th>\n",
              "      <td>52.0</td>\n",
              "    </tr>\n",
              "    <tr>\n",
              "      <th>2</th>\n",
              "      <td>10.0</td>\n",
              "    </tr>\n",
              "    <tr>\n",
              "      <th>3</th>\n",
              "      <td>49.5</td>\n",
              "    </tr>\n",
              "    <tr>\n",
              "      <th>4</th>\n",
              "      <td>78.5</td>\n",
              "    </tr>\n",
              "    <tr>\n",
              "      <th>5</th>\n",
              "      <td>66.5</td>\n",
              "    </tr>\n",
              "    <tr>\n",
              "      <th>6</th>\n",
              "      <td>34.5</td>\n",
              "    </tr>\n",
              "    <tr>\n",
              "      <th>7</th>\n",
              "      <td>87.5</td>\n",
              "    </tr>\n",
              "    <tr>\n",
              "      <th>8</th>\n",
              "      <td>0.0</td>\n",
              "    </tr>\n",
              "    <tr>\n",
              "      <th>9</th>\n",
              "      <td>0.0</td>\n",
              "    </tr>\n",
              "    <tr>\n",
              "      <th>10</th>\n",
              "      <td>0.0</td>\n",
              "    </tr>\n",
              "    <tr>\n",
              "      <th>11</th>\n",
              "      <td>0.0</td>\n",
              "    </tr>\n",
              "    <tr>\n",
              "      <th>12</th>\n",
              "      <td>11.0</td>\n",
              "    </tr>\n",
              "    <tr>\n",
              "      <th>13</th>\n",
              "      <td>0.0</td>\n",
              "    </tr>\n",
              "    <tr>\n",
              "      <th>14</th>\n",
              "      <td>159.5</td>\n",
              "    </tr>\n",
              "    <tr>\n",
              "      <th>15</th>\n",
              "      <td>0.0</td>\n",
              "    </tr>\n",
              "    <tr>\n",
              "      <th>16</th>\n",
              "      <td>81.5</td>\n",
              "    </tr>\n",
              "    <tr>\n",
              "      <th>17</th>\n",
              "      <td>88.0</td>\n",
              "    </tr>\n",
              "    <tr>\n",
              "      <th>18</th>\n",
              "      <td>152.0</td>\n",
              "    </tr>\n",
              "    <tr>\n",
              "      <th>19</th>\n",
              "      <td>42.0</td>\n",
              "    </tr>\n",
              "    <tr>\n",
              "      <th>20</th>\n",
              "      <td>11.0</td>\n",
              "    </tr>\n",
              "    <tr>\n",
              "      <th>21</th>\n",
              "      <td>0.0</td>\n",
              "    </tr>\n",
              "    <tr>\n",
              "      <th>22</th>\n",
              "      <td>35.0</td>\n",
              "    </tr>\n",
              "    <tr>\n",
              "      <th>23</th>\n",
              "      <td>0.0</td>\n",
              "    </tr>\n",
              "    <tr>\n",
              "      <th>24</th>\n",
              "      <td>0.0</td>\n",
              "    </tr>\n",
              "    <tr>\n",
              "      <th>25</th>\n",
              "      <td>141.7</td>\n",
              "    </tr>\n",
              "    <tr>\n",
              "      <th>26</th>\n",
              "      <td>108.5</td>\n",
              "    </tr>\n",
              "    <tr>\n",
              "      <th>27</th>\n",
              "      <td>34.5</td>\n",
              "    </tr>\n",
              "    <tr>\n",
              "      <th>28</th>\n",
              "      <td>115.2</td>\n",
              "    </tr>\n",
              "    <tr>\n",
              "      <th>29</th>\n",
              "      <td>67.0</td>\n",
              "    </tr>\n",
              "    <tr>\n",
              "      <th>...</th>\n",
              "      <td>...</td>\n",
              "    </tr>\n",
              "    <tr>\n",
              "      <th>366</th>\n",
              "      <td>89.5</td>\n",
              "    </tr>\n",
              "    <tr>\n",
              "      <th>367</th>\n",
              "      <td>14.5</td>\n",
              "    </tr>\n",
              "    <tr>\n",
              "      <th>368</th>\n",
              "      <td>0.0</td>\n",
              "    </tr>\n",
              "    <tr>\n",
              "      <th>369</th>\n",
              "      <td>0.0</td>\n",
              "    </tr>\n",
              "    <tr>\n",
              "      <th>370</th>\n",
              "      <td>0.0</td>\n",
              "    </tr>\n",
              "    <tr>\n",
              "      <th>371</th>\n",
              "      <td>0.0</td>\n",
              "    </tr>\n",
              "    <tr>\n",
              "      <th>372</th>\n",
              "      <td>50.0</td>\n",
              "    </tr>\n",
              "    <tr>\n",
              "      <th>373</th>\n",
              "      <td>33.5</td>\n",
              "    </tr>\n",
              "    <tr>\n",
              "      <th>374</th>\n",
              "      <td>167.5</td>\n",
              "    </tr>\n",
              "    <tr>\n",
              "      <th>375</th>\n",
              "      <td>28.0</td>\n",
              "    </tr>\n",
              "    <tr>\n",
              "      <th>376</th>\n",
              "      <td>35.0</td>\n",
              "    </tr>\n",
              "    <tr>\n",
              "      <th>377</th>\n",
              "      <td>46.5</td>\n",
              "    </tr>\n",
              "    <tr>\n",
              "      <th>378</th>\n",
              "      <td>62.5</td>\n",
              "    </tr>\n",
              "    <tr>\n",
              "      <th>379</th>\n",
              "      <td>55.5</td>\n",
              "    </tr>\n",
              "    <tr>\n",
              "      <th>380</th>\n",
              "      <td>6.0</td>\n",
              "    </tr>\n",
              "    <tr>\n",
              "      <th>381</th>\n",
              "      <td>0.0</td>\n",
              "    </tr>\n",
              "    <tr>\n",
              "      <th>382</th>\n",
              "      <td>0.0</td>\n",
              "    </tr>\n",
              "    <tr>\n",
              "      <th>383</th>\n",
              "      <td>2.5</td>\n",
              "    </tr>\n",
              "    <tr>\n",
              "      <th>384</th>\n",
              "      <td>9.5</td>\n",
              "    </tr>\n",
              "    <tr>\n",
              "      <th>385</th>\n",
              "      <td>60.5</td>\n",
              "    </tr>\n",
              "    <tr>\n",
              "      <th>386</th>\n",
              "      <td>115.5</td>\n",
              "    </tr>\n",
              "    <tr>\n",
              "      <th>387</th>\n",
              "      <td>71.0</td>\n",
              "    </tr>\n",
              "    <tr>\n",
              "      <th>388</th>\n",
              "      <td>43.5</td>\n",
              "    </tr>\n",
              "    <tr>\n",
              "      <th>389</th>\n",
              "      <td>15.0</td>\n",
              "    </tr>\n",
              "    <tr>\n",
              "      <th>390</th>\n",
              "      <td>150.5</td>\n",
              "    </tr>\n",
              "    <tr>\n",
              "      <th>391</th>\n",
              "      <td>19.5</td>\n",
              "    </tr>\n",
              "    <tr>\n",
              "      <th>392</th>\n",
              "      <td>0.0</td>\n",
              "    </tr>\n",
              "    <tr>\n",
              "      <th>393</th>\n",
              "      <td>0.0</td>\n",
              "    </tr>\n",
              "    <tr>\n",
              "      <th>394</th>\n",
              "      <td>0.0</td>\n",
              "    </tr>\n",
              "    <tr>\n",
              "      <th>395</th>\n",
              "      <td>0.0</td>\n",
              "    </tr>\n",
              "  </tbody>\n",
              "</table>\n",
              "<p>396 rows × 1 columns</p>\n",
              "</div>"
            ],
            "text/plain": [
              "         P\n",
              "0     29.0\n",
              "1     52.0\n",
              "2     10.0\n",
              "3     49.5\n",
              "4     78.5\n",
              "5     66.5\n",
              "6     34.5\n",
              "7     87.5\n",
              "8      0.0\n",
              "9      0.0\n",
              "10     0.0\n",
              "11     0.0\n",
              "12    11.0\n",
              "13     0.0\n",
              "14   159.5\n",
              "15     0.0\n",
              "16    81.5\n",
              "17    88.0\n",
              "18   152.0\n",
              "19    42.0\n",
              "20    11.0\n",
              "21     0.0\n",
              "22    35.0\n",
              "23     0.0\n",
              "24     0.0\n",
              "25   141.7\n",
              "26   108.5\n",
              "27    34.5\n",
              "28   115.2\n",
              "29    67.0\n",
              "..     ...\n",
              "366   89.5\n",
              "367   14.5\n",
              "368    0.0\n",
              "369    0.0\n",
              "370    0.0\n",
              "371    0.0\n",
              "372   50.0\n",
              "373   33.5\n",
              "374  167.5\n",
              "375   28.0\n",
              "376   35.0\n",
              "377   46.5\n",
              "378   62.5\n",
              "379   55.5\n",
              "380    6.0\n",
              "381    0.0\n",
              "382    0.0\n",
              "383    2.5\n",
              "384    9.5\n",
              "385   60.5\n",
              "386  115.5\n",
              "387   71.0\n",
              "388   43.5\n",
              "389   15.0\n",
              "390  150.5\n",
              "391   19.5\n",
              "392    0.0\n",
              "393    0.0\n",
              "394    0.0\n",
              "395    0.0\n",
              "\n",
              "[396 rows x 1 columns]"
            ]
          },
          "metadata": {
            "tags": []
          },
          "execution_count": 11
        }
      ]
    },
    {
      "cell_type": "markdown",
      "metadata": {
        "collapsed": true,
        "id": "2Tne2x3bHtsZ"
      },
      "source": [
        "# Normality test\n",
        "\n",
        "## Visual Normality Checks\n",
        "\n",
        "### 1- histogram plot\n",
        "A simple and commonly used plot to quickly check the distribution of a sample of data is the histogram.In the histogram, the data is divided into a pre-specified number of groups called bins. The data is then sorted into each bin and the count of the number of observations in each bin is retained. The plot shows the bins across the x-axis maintaining their ordinal relationship, and the count in each bin on the y-axis. A sample of data has a Gaussian distribution of the histogram plot, showing the familiar bell shape. A histogram can be created using the hist() matplotlib function. By default, the number of bins is automatically estimated from the data sample. A complete example demonstrating the histogram plot on the test problem is listed below.\n"
      ]
    },
    {
      "cell_type": "code",
      "metadata": {
        "id": "vIrvrq6sHtsa",
        "outputId": "a72fd40e-041c-4011-d453-508fadc81880"
      },
      "source": [
        "plt.hist(data.values,20)\n",
        "plt.show()\n"
      ],
      "execution_count": null,
      "outputs": [
        {
          "output_type": "display_data",
          "data": {
            "image/png": "[encoded data removed]",
            "text/plain": [
              "<matplotlib.figure.Figure at 0xc873e6bac8>"
            ]
          },
          "metadata": {
            "tags": []
          }
        }
      ]
    },
    {
      "cell_type": "markdown",
      "metadata": {
        "id": "reXywyb3Htsc"
      },
      "source": [
        "# Q-Q PLOT\n",
        "Another popular plot for checking the distribution of a data sample is the quantile-quantile plot, Q-Q plot, or QQ plot for short.This plot generates its own sample of the idealized distribution that we are comparing with, in this case the Gaussian distribution. The idealized samples are divided into groups (e.g. 5), called quantiles. Each data point in the sample is paired with a similar member from the idealized distribution at the same cumulative distribution. The resulting points are plotted as a scatter plot with the idealized value on the x-axis and the data sample on the y-axis. A perfect match for the distribution will be shown by a line of dots on a 45-degree angle from the bottom left of the plot to the top right. Often a line is drawn on the plot to help make this expectation clear. Deviations by the dots from the line shows a deviation from the expected distribution. We can develop a QQ plot in Python using the qqplot() statsmodels function. "
      ]
    },
    {
      "cell_type": "code",
      "metadata": {
        "id": "zD569-27Htsc",
        "outputId": "5a849f39-b6a1-4aca-9e6d-e056883f7d58"
      },
      "source": [
        "from statsmodels.graphics.gofplots import qqplot\n",
        "qqplot(data, line='s')\n",
        "pyplot.show()"
      ],
      "execution_count": null,
      "outputs": [
        {
          "output_type": "display_data",
          "data": {
            "image/png": "[encoded data removed]",
            "text/plain": [
              "<matplotlib.figure.Figure at 0xc87933a518>"
            ]
          },
          "metadata": {
            "tags": []
          }
        }
      ]
    },
    {
      "cell_type": "markdown",
      "metadata": {
        "id": "i7DUfyl1Htse"
      },
      "source": [
        "# Shapiro-Wilk Test\n",
        "The Shapiro-Wilk test evaluates a data sample and quantifies how likely it is that the data was drawn from a Gaussian distribution, named for Samuel Shapiro and Martin Wilk.In practice, the Shapiro-Wilk test is believed to be a reliable test of normality, although there is some suggestion that the test may be suitable for smaller samples of data, e.g. thousands of observations or fewer.\n",
        "\n",
        "The shapiro() SciPy function will calculate the Shapiro-Wilk on a given dataset. The function returns both the W-statistic calculated by the test and the p-value.\n"
      ]
    },
    {
      "cell_type": "code",
      "metadata": {
        "id": "BI5rWoZmHtse",
        "outputId": "dd7f3301-66d1-4027-ac22-673d9fe50c3e"
      },
      "source": [
        "from scipy.stats import shapiro\n",
        "stat, p = shapiro(data)\n",
        "print('Statistics=%.3f, p=%.3f' % (stat, p))\n",
        "# interpret\n",
        "alpha = 0.05\n",
        "if p > alpha:\n",
        "\tprint('Sample looks Gaussian (fail to reject H0)')\n",
        "else:\n",
        "\tprint('Sample does not look Gaussian (reject H0)')"
      ],
      "execution_count": null,
      "outputs": [
        {
          "output_type": "stream",
          "text": [
            "Statistics=0.852, p=0.000\n",
            "Sample does not look Gaussian (reject H0)\n"
          ],
          "name": "stdout"
        }
      ]
    },
    {
      "cell_type": "markdown",
      "metadata": {
        "id": "P6N1F4prHtsg"
      },
      "source": [
        "# D’Agostino’s K^2 Test\n",
        "The D’Agostino’s K^2 test calculates summary statistics from the data, namely kurtosis and skewness, to determine if the data distribution departs from the normal distribution, named for Ralph D’Agostino.Skew is a quantification of how much a distribution is pushed left or right, a measure of asymmetry in the distribution. Kurtosis quantifies how much of the distribution is in the tail. It is a simple and commonly used statistical test for normality. The D’Agostino’s K^2 test is available via the normaltest() SciPy function and returns the test statistic and the p-value."
      ]
    },
    {
      "cell_type": "code",
      "metadata": {
        "id": "AAeyVAznHtsh",
        "outputId": "c49ff0e5-ee15-4707-9867-08b0c4c222e0"
      },
      "source": [
        "from scipy.stats import normaltest\n",
        "# normality test\n",
        "stat, p = normaltest(data)\n",
        "print('Statistics=%.3f, p=%.3f' % (stat, p))\n",
        "# interpret\n",
        "alpha = 0.05\n",
        "if p > alpha:\n",
        "\tprint('Sample looks Gaussian (fail to reject H0)')\n",
        "else:\n",
        "\tprint('Sample does not look Gaussian (reject H0)')"
      ],
      "execution_count": null,
      "outputs": [
        {
          "output_type": "stream",
          "text": [
            "Statistics=63.783, p=0.000\n",
            "Sample does not look Gaussian (reject H0)\n"
          ],
          "name": "stdout"
        }
      ]
    },
    {
      "cell_type": "markdown",
      "metadata": {
        "id": "seRTHli3Htsj"
      },
      "source": [
        "# Anderson-Darling Test\n",
        "Anderson-Darling Test is a statistical test that can be used to evaluate whether a data sample comes from one of among many known data samples, named for Theodore Anderson and Donald Darling. The test is a modified version of a more sophisticated nonparametric goodness-of-fit statistical test called the Kolmogorov-Smirnov test.\n",
        "\n",
        "A feature of the Anderson-Darling test is that it returns a list of critical values rather than a single p-value. This can provide the basis for a more thorough interpretation of the result.\n",
        "\n",
        "The anderson() SciPy function implements the Anderson-Darling test. It takes as parameters the data sample and the name of the distribution to test it against. By default, the test will check against the Gaussian distribution (dist=’norm’)."
      ]
    },
    {
      "cell_type": "code",
      "metadata": {
        "id": "5nVIY5ZIHtsj",
        "outputId": "82df0cd8-a909-4b26-f2d4-dc9c73a0a898"
      },
      "source": [
        "from scipy.stats import anderson\n",
        "# normality test\n",
        "result1 = anderson(data.values.flatten())\n",
        "print('Statistic: %.3f' % result1.statistic)\n",
        "# interpret\n",
        "alpha = 0.05\n",
        "if p > alpha:\n",
        "\tprint('Sample looks Gaussian (fail to reject H0)')\n",
        "else:\n",
        "\tprint('Sample does not look Gaussian (reject H0)')"
      ],
      "execution_count": null,
      "outputs": [
        {
          "output_type": "stream",
          "text": [
            "Statistic: 18.584\n",
            "Sample does not look Gaussian (reject H0)\n"
          ],
          "name": "stdout"
        }
      ]
    },
    {
      "cell_type": "markdown",
      "metadata": {
        "id": "gIOPDJYKHtsl"
      },
      "source": [
        "# QUESTIONS\n"
      ]
    },
    {
      "cell_type": "markdown",
      "metadata": {
        "id": "Scf0glLbHtsm"
      },
      "source": [
        "1- Try all normality test on different blew times series.\n",
        "\n",
        "Daily minimum temprature Australia.\n",
        "2- find different timeseries dataset and try normality test on them. "
      ]
    },
    {
      "cell_type": "code",
      "metadata": {
        "id": "2zQy_5OKP9zc",
        "outputId": "d8d83310-90c3-4e28-c9c5-1d2673b3f8cb",
        "colab": {
          "base_uri": "https://localhost:8080/",
          "height": 215
        }
      },
      "source": [
        "import pandas as pd\n",
        "\n",
        "data = pd.read_csv('daily-minimum-temperatures-in-me.csv',error_bad_lines=False)\n",
        "\n",
        "data.head()"
      ],
      "execution_count": 2,
      "outputs": [
        {
          "output_type": "stream",
          "text": [
            "b'Skipping line 3653: expected 2 fields, saw 3\\n'\n"
          ],
          "name": "stderr"
        },
        {
          "output_type": "execute_result",
          "data": {
            "text/html": [
              "<div>\n",
              "<style scoped>\n",
              "    .dataframe tbody tr th:only-of-type {\n",
              "        vertical-align: middle;\n",
              "    }\n",
              "\n",
              "    .dataframe tbody tr th {\n",
              "        vertical-align: top;\n",
              "    }\n",
              "\n",
              "    .dataframe thead th {\n",
              "        text-align: right;\n",
              "    }\n",
              "</style>\n",
              "<table border=\"1\" class=\"dataframe\">\n",
              "  <thead>\n",
              "    <tr style=\"text-align: right;\">\n",
              "      <th></th>\n",
              "      <th>Date</th>\n",
              "      <th>Daily minimum temperatures in Melbourne, Australia, 1981-1990</th>\n",
              "    </tr>\n",
              "  </thead>\n",
              "  <tbody>\n",
              "    <tr>\n",
              "      <th>0</th>\n",
              "      <td>1981-01-01</td>\n",
              "      <td>20.7</td>\n",
              "    </tr>\n",
              "    <tr>\n",
              "      <th>1</th>\n",
              "      <td>1981-01-02</td>\n",
              "      <td>17.9</td>\n",
              "    </tr>\n",
              "    <tr>\n",
              "      <th>2</th>\n",
              "      <td>1981-01-03</td>\n",
              "      <td>18.8</td>\n",
              "    </tr>\n",
              "    <tr>\n",
              "      <th>3</th>\n",
              "      <td>1981-01-04</td>\n",
              "      <td>14.6</td>\n",
              "    </tr>\n",
              "    <tr>\n",
              "      <th>4</th>\n",
              "      <td>1981-01-05</td>\n",
              "      <td>15.8</td>\n",
              "    </tr>\n",
              "  </tbody>\n",
              "</table>\n",
              "</div>"
            ],
            "text/plain": [
              "         Date Daily minimum temperatures in Melbourne, Australia, 1981-1990\n",
              "0  1981-01-01                                               20.7           \n",
              "1  1981-01-02                                               17.9           \n",
              "2  1981-01-03                                               18.8           \n",
              "3  1981-01-04                                               14.6           \n",
              "4  1981-01-05                                               15.8           "
            ]
          },
          "metadata": {
            "tags": []
          },
          "execution_count": 2
        }
      ]
    },
    {
      "cell_type": "code",
      "metadata": {
        "id": "-NmTgRw_Sxja",
        "outputId": "69846de1-e14e-4ecf-a86f-17f04583fa36",
        "colab": {
          "base_uri": "https://localhost:8080/",
          "height": 335
        }
      },
      "source": [
        "temp = data.iloc[:,1]\n",
        "\n",
        "import matplotlib.pyplot as plt\n",
        "\n",
        "plt.hist(temp)\n",
        "\n",
        "#kind of looks normally distributed"
      ],
      "execution_count": 3,
      "outputs": [
        {
          "output_type": "execute_result",
          "data": {
            "text/plain": [
              "(array([306., 296., 607., 694., 428., 539., 427., 175., 135.,  43.]),\n",
              " array([  0. ,  22.9,  45.8,  68.7,  91.6, 114.5, 137.4, 160.3, 183.2,\n",
              "        206.1, 229. ]),\n",
              " <a list of 10 Patch objects>)"
            ]
          },
          "metadata": {
            "tags": []
          },
          "execution_count": 3
        },
        {
          "output_type": "display_data",
          "data": {
            "image/png": "[encoded data removed]",
            "text/plain": [
              "<Figure size 432x288 with 1 Axes>"
            ]
          },
          "metadata": {
            "tags": [],
            "needs_background": "light"
          }
        }
      ]
    },
    {
      "cell_type": "code",
      "metadata": {
        "id": "WFtFrnTgTkuK",
        "outputId": "9c59900c-d814-4f9a-b4da-2735b476be95",
        "colab": {
          "base_uri": "https://localhost:8080/",
          "height": 70
        }
      },
      "source": [
        "for each in enumerate(temp.values):\n",
        "  if each[1][0]=='?':\n",
        "    print(each[0])"
      ],
      "execution_count": 8,
      "outputs": [
        {
          "output_type": "stream",
          "text": [
            "565\n",
            "566\n",
            "1290\n"
          ],
          "name": "stdout"
        }
      ]
    },
    {
      "cell_type": "code",
      "metadata": {
        "id": "KL-KHTbNHbuU"
      },
      "source": [
        "temp.loc[565] = 0.2\n",
        "temp.loc[566] = 0.8\n",
        "temp.loc[1290] = 0.1"
      ],
      "execution_count": 20,
      "outputs": []
    },
    {
      "cell_type": "markdown",
      "metadata": {
        "id": "Ov4OgwRHIbMH"
      },
      "source": [
        "# QQ"
      ]
    },
    {
      "cell_type": "code",
      "metadata": {
        "id": "4swWg2fcS1-B",
        "outputId": "136c6c41-5563-454d-c991-1ab6ff406242",
        "colab": {
          "base_uri": "https://localhost:8080/",
          "height": 278
        }
      },
      "source": [
        "from statsmodels.graphics.gofplots import qqplot\n",
        "import numpy as np\n",
        "\n",
        "qqplot(np.array(temp, dtype=float), line='s')\n",
        "plt.show()"
      ],
      "execution_count": 25,
      "outputs": [
        {
          "output_type": "display_data",
          "data": {
            "image/png": "[encoded data removed]",
            "text/plain": [
              "<Figure size 432x288 with 1 Axes>"
            ]
          },
          "metadata": {
            "tags": [],
            "needs_background": "light"
          }
        }
      ]
    },
    {
      "cell_type": "markdown",
      "metadata": {
        "id": "6cTAi38qIlGL"
      },
      "source": [
        "# Shapiro"
      ]
    },
    {
      "cell_type": "code",
      "metadata": {
        "id": "hgmM-Xa3IY97",
        "outputId": "9ca1ca65-337a-4306-a2c2-0959c879d60f",
        "colab": {
          "base_uri": "https://localhost:8080/",
          "height": 52
        }
      },
      "source": [
        "from scipy.stats import shapiro\n",
        "stat, p = shapiro(np.array(temp, dtype=float))\n",
        "print('Statistics=%.3f, p=%.3f' % (stat, p))\n",
        "# interpret\n",
        "alpha = 0.05\n",
        "if p > alpha:\n",
        "\tprint('Sample looks Gaussian (fail to reject H0)')\n",
        "else:\n",
        "\tprint('Sample does not look Gaussian (reject H0)')"
      ],
      "execution_count": 27,
      "outputs": [
        {
          "output_type": "stream",
          "text": [
            "Statistics=0.997, p=0.000\n",
            "Sample does not look Gaussian (reject H0)\n"
          ],
          "name": "stdout"
        }
      ]
    },
    {
      "cell_type": "markdown",
      "metadata": {
        "id": "jTnW4AxiI1CO"
      },
      "source": [
        "# K^2"
      ]
    },
    {
      "cell_type": "code",
      "metadata": {
        "id": "PUrjcch4I5s3",
        "outputId": "e3a81d65-0c9d-4524-f6c9-47d02bdf2404",
        "colab": {
          "base_uri": "https://localhost:8080/",
          "height": 52
        }
      },
      "source": [
        "from scipy.stats import normaltest\n",
        "# normality test\n",
        "stat, p = normaltest(np.array(temp, dtype=float))\n",
        "print('Statistics=%.3f, p=%.3f' % (stat, p))\n",
        "# interpret\n",
        "alpha = 0.05\n",
        "if p > alpha:\n",
        "\tprint('Sample looks Gaussian (fail to reject H0)')\n",
        "else:\n",
        "\tprint('Sample does not look Gaussian (reject H0)')"
      ],
      "execution_count": 28,
      "outputs": [
        {
          "output_type": "stream",
          "text": [
            "Statistics=18.441, p=0.000\n",
            "Sample does not look Gaussian (reject H0)\n"
          ],
          "name": "stdout"
        }
      ]
    },
    {
      "cell_type": "markdown",
      "metadata": {
        "id": "YlR4G3P8JHQW"
      },
      "source": [
        "# Anderson-Darling"
      ]
    },
    {
      "cell_type": "code",
      "metadata": {
        "id": "fkJvCpYQI9SN",
        "outputId": "55e51787-0fcc-44b1-bc55-0d3e7aa4db09",
        "colab": {
          "base_uri": "https://localhost:8080/",
          "height": 52
        }
      },
      "source": [
        "from scipy.stats import anderson\n",
        "# normality test\n",
        "result1 = anderson(np.array(temp, dtype=float))\n",
        "print('Statistic: %.3f' % result1.statistic)\n",
        "# interpret\n",
        "alpha = 0.05\n",
        "if p > alpha:\n",
        "\tprint('Sample looks Gaussian (fail to reject H0)')\n",
        "else:\n",
        "\tprint('Sample does not look Gaussian (reject H0)')"
      ],
      "execution_count": 31,
      "outputs": [
        {
          "output_type": "stream",
          "text": [
            "Statistic: 1.932\n",
            "Sample does not look Gaussian (reject H0)\n"
          ],
          "name": "stdout"
        }
      ]
    }
  ]
}